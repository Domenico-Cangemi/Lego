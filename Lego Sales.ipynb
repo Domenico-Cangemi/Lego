{
 "cells": [
  {
   "cell_type": "markdown",
   "id": "76d16d58-c291-4876-b5f6-5c6b17e0f2c1",
   "metadata": {},
   "source": [
    "# Lego Sales"
   ]
  },
  {
   "cell_type": "code",
   "execution_count": 1,
   "id": "abeb5f28-0179-4f9b-b91b-9199e2ff77b5",
   "metadata": {},
   "outputs": [],
   "source": [
    "import pandas as pd\n",
    "import matplotlib.pyplot as plt\n",
    "\n",
    "df = pd.read_csv('/Users/domenicocangemi/Desktop/Data/Python/lego-analysis-master/datasets/lego_sets.csv')"
   ]
  },
  {
   "cell_type": "code",
   "execution_count": 4,
   "id": "dab209e1-efba-4288-a1bc-5707747364e2",
   "metadata": {},
   "outputs": [
    {
     "data": {
      "text/html": [
       "<div>\n",
       "<style scoped>\n",
       "    .dataframe tbody tr th:only-of-type {\n",
       "        vertical-align: middle;\n",
       "    }\n",
       "\n",
       "    .dataframe tbody tr th {\n",
       "        vertical-align: top;\n",
       "    }\n",
       "\n",
       "    .dataframe thead th {\n",
       "        text-align: right;\n",
       "    }\n",
       "</style>\n",
       "<table border=\"1\" class=\"dataframe\">\n",
       "  <thead>\n",
       "    <tr style=\"text-align: right;\">\n",
       "      <th></th>\n",
       "      <th>set_num</th>\n",
       "      <th>name</th>\n",
       "      <th>year</th>\n",
       "      <th>num_parts</th>\n",
       "      <th>theme_name</th>\n",
       "      <th>parent_theme</th>\n",
       "    </tr>\n",
       "  </thead>\n",
       "  <tbody>\n",
       "    <tr>\n",
       "      <th>0</th>\n",
       "      <td>00-1</td>\n",
       "      <td>Weetabix Castle</td>\n",
       "      <td>1970</td>\n",
       "      <td>471.0</td>\n",
       "      <td>Castle</td>\n",
       "      <td>Legoland</td>\n",
       "    </tr>\n",
       "    <tr>\n",
       "      <th>1</th>\n",
       "      <td>0011-2</td>\n",
       "      <td>Town Mini-Figures</td>\n",
       "      <td>1978</td>\n",
       "      <td>NaN</td>\n",
       "      <td>Supplemental</td>\n",
       "      <td>Town</td>\n",
       "    </tr>\n",
       "    <tr>\n",
       "      <th>2</th>\n",
       "      <td>0011-3</td>\n",
       "      <td>Castle 2 for 1 Bonus Offer</td>\n",
       "      <td>1987</td>\n",
       "      <td>NaN</td>\n",
       "      <td>Lion Knights</td>\n",
       "      <td>Castle</td>\n",
       "    </tr>\n",
       "    <tr>\n",
       "      <th>3</th>\n",
       "      <td>0012-1</td>\n",
       "      <td>Space Mini-Figures</td>\n",
       "      <td>1979</td>\n",
       "      <td>12.0</td>\n",
       "      <td>Supplemental</td>\n",
       "      <td>Space</td>\n",
       "    </tr>\n",
       "    <tr>\n",
       "      <th>4</th>\n",
       "      <td>0013-1</td>\n",
       "      <td>Space Mini-Figures</td>\n",
       "      <td>1979</td>\n",
       "      <td>12.0</td>\n",
       "      <td>Supplemental</td>\n",
       "      <td>Space</td>\n",
       "    </tr>\n",
       "  </tbody>\n",
       "</table>\n",
       "</div>"
      ],
      "text/plain": [
       "  set_num                        name  year  num_parts    theme_name  \\\n",
       "0    00-1             Weetabix Castle  1970      471.0        Castle   \n",
       "1  0011-2           Town Mini-Figures  1978        NaN  Supplemental   \n",
       "2  0011-3  Castle 2 for 1 Bonus Offer  1987        NaN  Lion Knights   \n",
       "3  0012-1          Space Mini-Figures  1979       12.0  Supplemental   \n",
       "4  0013-1          Space Mini-Figures  1979       12.0  Supplemental   \n",
       "\n",
       "  parent_theme  \n",
       "0     Legoland  \n",
       "1         Town  \n",
       "2       Castle  \n",
       "3        Space  \n",
       "4        Space  "
      ]
     },
     "execution_count": 4,
     "metadata": {},
     "output_type": "execute_result"
    }
   ],
   "source": [
    "df.head()"
   ]
  },
  {
   "cell_type": "code",
   "execution_count": 33,
   "id": "a903c9fb-b3bc-4365-b599-1b644588dbea",
   "metadata": {},
   "outputs": [],
   "source": [
    "dg = pd.read_csv('/Users/domenicocangemi/Desktop/Data/Python/lego-analysis-master/datasets/parent_themes.csv')"
   ]
  },
  {
   "cell_type": "markdown",
   "id": "ef14a9d7-0522-449b-baf5-b92b0415a525",
   "metadata": {},
   "source": [
    "### Domanda 1: Che percentuale di collezioni con licenza è a tema Star Wars?"
   ]
  },
  {
   "cell_type": "code",
   "execution_count": 43,
   "id": "0d809843-e9ec-4ad0-a457-ed676d7fc5a2",
   "metadata": {},
   "outputs": [],
   "source": [
    "merge = df.merge(dg, how='left', left_on='parent_theme', right_on='name')"
   ]
  },
  {
   "cell_type": "code",
   "execution_count": 48,
   "id": "582e8fe4-143e-4a93-89dd-363aa6c2081d",
   "metadata": {},
   "outputs": [],
   "source": [
    "merge = merge.drop(['name_y','id'],axis=1)"
   ]
  },
  {
   "cell_type": "code",
   "execution_count": 58,
   "id": "49329941-59c2-4756-8b79-bd3426315fa5",
   "metadata": {},
   "outputs": [
    {
     "data": {
      "text/html": [
       "<div>\n",
       "<style scoped>\n",
       "    .dataframe tbody tr th:only-of-type {\n",
       "        vertical-align: middle;\n",
       "    }\n",
       "\n",
       "    .dataframe tbody tr th {\n",
       "        vertical-align: top;\n",
       "    }\n",
       "\n",
       "    .dataframe thead th {\n",
       "        text-align: right;\n",
       "    }\n",
       "</style>\n",
       "<table border=\"1\" class=\"dataframe\">\n",
       "  <thead>\n",
       "    <tr style=\"text-align: right;\">\n",
       "      <th></th>\n",
       "      <th>set_num</th>\n",
       "      <th>name_x</th>\n",
       "      <th>year</th>\n",
       "      <th>num_parts</th>\n",
       "      <th>theme_name</th>\n",
       "      <th>parent_theme</th>\n",
       "      <th>is_licensed</th>\n",
       "    </tr>\n",
       "  </thead>\n",
       "  <tbody>\n",
       "    <tr>\n",
       "      <th>0</th>\n",
       "      <td>00-1</td>\n",
       "      <td>Weetabix Castle</td>\n",
       "      <td>1970</td>\n",
       "      <td>471.0</td>\n",
       "      <td>Castle</td>\n",
       "      <td>Legoland</td>\n",
       "      <td>False</td>\n",
       "    </tr>\n",
       "    <tr>\n",
       "      <th>1</th>\n",
       "      <td>0011-2</td>\n",
       "      <td>Town Mini-Figures</td>\n",
       "      <td>1978</td>\n",
       "      <td>NaN</td>\n",
       "      <td>Supplemental</td>\n",
       "      <td>Town</td>\n",
       "      <td>False</td>\n",
       "    </tr>\n",
       "    <tr>\n",
       "      <th>2</th>\n",
       "      <td>0011-3</td>\n",
       "      <td>Castle 2 for 1 Bonus Offer</td>\n",
       "      <td>1987</td>\n",
       "      <td>NaN</td>\n",
       "      <td>Lion Knights</td>\n",
       "      <td>Castle</td>\n",
       "      <td>False</td>\n",
       "    </tr>\n",
       "    <tr>\n",
       "      <th>3</th>\n",
       "      <td>0012-1</td>\n",
       "      <td>Space Mini-Figures</td>\n",
       "      <td>1979</td>\n",
       "      <td>12.0</td>\n",
       "      <td>Supplemental</td>\n",
       "      <td>Space</td>\n",
       "      <td>False</td>\n",
       "    </tr>\n",
       "    <tr>\n",
       "      <th>4</th>\n",
       "      <td>0013-1</td>\n",
       "      <td>Space Mini-Figures</td>\n",
       "      <td>1979</td>\n",
       "      <td>12.0</td>\n",
       "      <td>Supplemental</td>\n",
       "      <td>Space</td>\n",
       "      <td>False</td>\n",
       "    </tr>\n",
       "  </tbody>\n",
       "</table>\n",
       "</div>"
      ],
      "text/plain": [
       "  set_num                      name_x  year  num_parts    theme_name  \\\n",
       "0    00-1             Weetabix Castle  1970      471.0        Castle   \n",
       "1  0011-2           Town Mini-Figures  1978        NaN  Supplemental   \n",
       "2  0011-3  Castle 2 for 1 Bonus Offer  1987        NaN  Lion Knights   \n",
       "3  0012-1          Space Mini-Figures  1979       12.0  Supplemental   \n",
       "4  0013-1          Space Mini-Figures  1979       12.0  Supplemental   \n",
       "\n",
       "  parent_theme  is_licensed  \n",
       "0     Legoland        False  \n",
       "1         Town        False  \n",
       "2       Castle        False  \n",
       "3        Space        False  \n",
       "4        Space        False  "
      ]
     },
     "execution_count": 58,
     "metadata": {},
     "output_type": "execute_result"
    }
   ],
   "source": [
    "merge.head()"
   ]
  },
  {
   "cell_type": "code",
   "execution_count": 59,
   "id": "0d78a34f-2aba-47e7-81f1-ab8375df4b64",
   "metadata": {},
   "outputs": [],
   "source": [
    "licensed = merge[merge['is_licensed']]"
   ]
  },
  {
   "cell_type": "code",
   "execution_count": 64,
   "id": "4560332b-198b-454c-9ca4-373bbe8decf7",
   "metadata": {},
   "outputs": [],
   "source": [
    "licensed = licensed[licensed['set_num'].notnull()]"
   ]
  },
  {
   "cell_type": "code",
   "execution_count": 72,
   "id": "f303d732-36f7-44bd-a634-8190d140147c",
   "metadata": {},
   "outputs": [],
   "source": [
    "total_licensed = len(licensed)"
   ]
  },
  {
   "cell_type": "code",
   "execution_count": 91,
   "id": "e18a5715-f755-4a92-9eaf-1a7addc3b4e0",
   "metadata": {},
   "outputs": [],
   "source": [
    "starwars_licensed = len(licensed[licensed['parent_theme'] == 'Star Wars'])"
   ]
  },
  {
   "cell_type": "code",
   "execution_count": 93,
   "id": "88d82086-117f-4217-b4a0-56e884c0237e",
   "metadata": {},
   "outputs": [],
   "source": [
    "the_force = round((starwars_licensed*100)/total_licensed)"
   ]
  },
  {
   "cell_type": "code",
   "execution_count": 97,
   "id": "9e3e7ba5-4034-4bea-93c8-bbbb7d6463e7",
   "metadata": {},
   "outputs": [
    {
     "name": "stdout",
     "output_type": "stream",
     "text": [
      "52% of licensed sets are Star Wars themed\n"
     ]
    }
   ],
   "source": [
    "print(str(the_force) + '% of licensed sets are Star Wars themed')"
   ]
  },
  {
   "cell_type": "markdown",
   "id": "123b2273-0afb-4549-87f8-aed973a566bc",
   "metadata": {},
   "source": [
    "### Domanda 2: In che anno Star Wars non è stato il tema più popolare tra le collezioni rilasciate?\n"
   ]
  },
  {
   "cell_type": "code",
   "execution_count": 156,
   "id": "e06a8f05-9200-4d5a-9d50-c9091ebed10a",
   "metadata": {},
   "outputs": [],
   "source": [
    "per_year = licensed.groupby(['year', 'parent_theme'], as_index=False)['set_num'].count()"
   ]
  },
  {
   "cell_type": "code",
   "execution_count": 157,
   "id": "d8a5b972-4c1a-42b8-8c05-a506eeb7c9d7",
   "metadata": {},
   "outputs": [],
   "source": [
    "per_year = per_year.sort_values(['year','set_num'], ascending=[True, False])"
   ]
  },
  {
   "cell_type": "code",
   "execution_count": 158,
   "id": "e941a982-39cf-4e59-a0c9-9c5967961ed7",
   "metadata": {},
   "outputs": [],
   "source": [
    "per_year['rank'] = per_year.groupby('year')['set_num'].rank(ascending=False)"
   ]
  },
  {
   "cell_type": "code",
   "execution_count": 163,
   "id": "3c1081e0-950e-429b-943d-684604b6ca4c",
   "metadata": {},
   "outputs": [],
   "source": [
    "most_popular = per_year[per_year['rank'] == 1.0]"
   ]
  },
  {
   "cell_type": "code",
   "execution_count": 167,
   "id": "08ce60f0-e465-47ce-9668-e972885e013e",
   "metadata": {},
   "outputs": [
    {
     "name": "stderr",
     "output_type": "stream",
     "text": [
      "/var/folders/dt/xjxw5sfs46vf81751tfk_4bw0000gn/T/ipykernel_43233/871880178.py:1: SettingWithCopyWarning: \n",
      "A value is trying to be set on a copy of a slice from a DataFrame\n",
      "\n",
      "See the caveats in the documentation: https://pandas.pydata.org/pandas-docs/stable/user_guide/indexing.html#returning-a-view-versus-a-copy\n",
      "  most_popular.drop(['set_num','rank'],axis=1,inplace=True)\n"
     ]
    }
   ],
   "source": [
    "most_popular.drop(['set_num','rank'],axis=1,inplace=True)"
   ]
  },
  {
   "cell_type": "code",
   "execution_count": 171,
   "id": "5e77fdcb-661a-4d72-b9b2-c7aa7d08d21a",
   "metadata": {},
   "outputs": [
    {
     "name": "stderr",
     "output_type": "stream",
     "text": [
      "/var/folders/dt/xjxw5sfs46vf81751tfk_4bw0000gn/T/ipykernel_43233/3382069620.py:1: SettingWithCopyWarning: \n",
      "A value is trying to be set on a copy of a slice from a DataFrame\n",
      "\n",
      "See the caveats in the documentation: https://pandas.pydata.org/pandas-docs/stable/user_guide/indexing.html#returning-a-view-versus-a-copy\n",
      "  most_popular.rename(columns={'parent_theme' : 'most_popular'},inplace=True)\n"
     ]
    }
   ],
   "source": [
    "most_popular.rename(columns={'parent_theme' : 'most_popular'},inplace=True)"
   ]
  },
  {
   "cell_type": "code",
   "execution_count": 186,
   "id": "7b26dfd0-5e72-4ba9-820f-adfe9b76a5d1",
   "metadata": {},
   "outputs": [],
   "source": [
    "most_popular.reset_index(drop=True,inplace=True)"
   ]
  },
  {
   "cell_type": "code",
   "execution_count": 188,
   "id": "5bbf3d64-2bce-42c1-8828-455a8645b5f5",
   "metadata": {},
   "outputs": [
    {
     "data": {
      "text/html": [
       "<div>\n",
       "<style scoped>\n",
       "    .dataframe tbody tr th:only-of-type {\n",
       "        vertical-align: middle;\n",
       "    }\n",
       "\n",
       "    .dataframe tbody tr th {\n",
       "        vertical-align: top;\n",
       "    }\n",
       "\n",
       "    .dataframe thead th {\n",
       "        text-align: right;\n",
       "    }\n",
       "</style>\n",
       "<table border=\"1\" class=\"dataframe\">\n",
       "  <thead>\n",
       "    <tr style=\"text-align: right;\">\n",
       "      <th></th>\n",
       "      <th>year</th>\n",
       "      <th>most_popular</th>\n",
       "    </tr>\n",
       "  </thead>\n",
       "  <tbody>\n",
       "    <tr>\n",
       "      <th>0</th>\n",
       "      <td>1999</td>\n",
       "      <td>Star Wars</td>\n",
       "    </tr>\n",
       "    <tr>\n",
       "      <th>1</th>\n",
       "      <td>2000</td>\n",
       "      <td>Star Wars</td>\n",
       "    </tr>\n",
       "    <tr>\n",
       "      <th>2</th>\n",
       "      <td>2001</td>\n",
       "      <td>Star Wars</td>\n",
       "    </tr>\n",
       "    <tr>\n",
       "      <th>3</th>\n",
       "      <td>2002</td>\n",
       "      <td>Star Wars</td>\n",
       "    </tr>\n",
       "    <tr>\n",
       "      <th>4</th>\n",
       "      <td>2003</td>\n",
       "      <td>Star Wars</td>\n",
       "    </tr>\n",
       "    <tr>\n",
       "      <th>5</th>\n",
       "      <td>2004</td>\n",
       "      <td>Star Wars</td>\n",
       "    </tr>\n",
       "    <tr>\n",
       "      <th>6</th>\n",
       "      <td>2005</td>\n",
       "      <td>Star Wars</td>\n",
       "    </tr>\n",
       "    <tr>\n",
       "      <th>7</th>\n",
       "      <td>2006</td>\n",
       "      <td>Star Wars</td>\n",
       "    </tr>\n",
       "    <tr>\n",
       "      <th>8</th>\n",
       "      <td>2007</td>\n",
       "      <td>Star Wars</td>\n",
       "    </tr>\n",
       "    <tr>\n",
       "      <th>9</th>\n",
       "      <td>2008</td>\n",
       "      <td>Star Wars</td>\n",
       "    </tr>\n",
       "    <tr>\n",
       "      <th>10</th>\n",
       "      <td>2009</td>\n",
       "      <td>Star Wars</td>\n",
       "    </tr>\n",
       "    <tr>\n",
       "      <th>11</th>\n",
       "      <td>2010</td>\n",
       "      <td>Star Wars</td>\n",
       "    </tr>\n",
       "    <tr>\n",
       "      <th>12</th>\n",
       "      <td>2011</td>\n",
       "      <td>Star Wars</td>\n",
       "    </tr>\n",
       "    <tr>\n",
       "      <th>13</th>\n",
       "      <td>2012</td>\n",
       "      <td>Star Wars</td>\n",
       "    </tr>\n",
       "    <tr>\n",
       "      <th>14</th>\n",
       "      <td>2013</td>\n",
       "      <td>Star Wars</td>\n",
       "    </tr>\n",
       "    <tr>\n",
       "      <th>15</th>\n",
       "      <td>2014</td>\n",
       "      <td>Star Wars</td>\n",
       "    </tr>\n",
       "    <tr>\n",
       "      <th>16</th>\n",
       "      <td>2015</td>\n",
       "      <td>Star Wars</td>\n",
       "    </tr>\n",
       "    <tr>\n",
       "      <th>17</th>\n",
       "      <td>2016</td>\n",
       "      <td>Star Wars</td>\n",
       "    </tr>\n",
       "    <tr>\n",
       "      <th>18</th>\n",
       "      <td>2017</td>\n",
       "      <td>Super Heroes</td>\n",
       "    </tr>\n",
       "  </tbody>\n",
       "</table>\n",
       "</div>"
      ],
      "text/plain": [
       "    year  most_popular\n",
       "0   1999     Star Wars\n",
       "1   2000     Star Wars\n",
       "2   2001     Star Wars\n",
       "3   2002     Star Wars\n",
       "4   2003     Star Wars\n",
       "5   2004     Star Wars\n",
       "6   2005     Star Wars\n",
       "7   2006     Star Wars\n",
       "8   2007     Star Wars\n",
       "9   2008     Star Wars\n",
       "10  2009     Star Wars\n",
       "11  2010     Star Wars\n",
       "12  2011     Star Wars\n",
       "13  2012     Star Wars\n",
       "14  2013     Star Wars\n",
       "15  2014     Star Wars\n",
       "16  2015     Star Wars\n",
       "17  2016     Star Wars\n",
       "18  2017  Super Heroes"
      ]
     },
     "execution_count": 188,
     "metadata": {},
     "output_type": "execute_result"
    }
   ],
   "source": [
    "most_popular"
   ]
  },
  {
   "cell_type": "code",
   "execution_count": 189,
   "id": "5dcf1344-9dac-4922-9a1d-9f8f822ee9b0",
   "metadata": {},
   "outputs": [],
   "source": [
    "new_eras = []\n",
    "for i in range(0,len(most_popular)):\n",
    "    if most_popular.loc[i]['most_popular'] != 'Star Wars':\n",
    "        new_eras.append(most_popular.loc[i]['year'])"
   ]
  },
  {
   "cell_type": "code",
   "execution_count": 190,
   "id": "3570aadd-c867-4262-853e-346a92f6a7af",
   "metadata": {},
   "outputs": [
    {
     "data": {
      "text/plain": [
       "[2017]"
      ]
     },
     "execution_count": 190,
     "metadata": {},
     "output_type": "execute_result"
    }
   ],
   "source": [
    "new_eras"
   ]
  },
  {
   "cell_type": "markdown",
   "id": "8e727345-6677-41ac-9511-ee4ac0715969",
   "metadata": {},
   "source": [
    "### Domanda 3: In che anno sono stati prodotti più set?"
   ]
  },
  {
   "cell_type": "code",
   "execution_count": 191,
   "id": "9d788f18-e917-4b17-a3b4-feb89f5ab047",
   "metadata": {},
   "outputs": [
    {
     "data": {
      "text/html": [
       "<div>\n",
       "<style scoped>\n",
       "    .dataframe tbody tr th:only-of-type {\n",
       "        vertical-align: middle;\n",
       "    }\n",
       "\n",
       "    .dataframe tbody tr th {\n",
       "        vertical-align: top;\n",
       "    }\n",
       "\n",
       "    .dataframe thead th {\n",
       "        text-align: right;\n",
       "    }\n",
       "</style>\n",
       "<table border=\"1\" class=\"dataframe\">\n",
       "  <thead>\n",
       "    <tr style=\"text-align: right;\">\n",
       "      <th></th>\n",
       "      <th>set_num</th>\n",
       "      <th>name</th>\n",
       "      <th>year</th>\n",
       "      <th>num_parts</th>\n",
       "      <th>theme_name</th>\n",
       "      <th>parent_theme</th>\n",
       "    </tr>\n",
       "  </thead>\n",
       "  <tbody>\n",
       "    <tr>\n",
       "      <th>0</th>\n",
       "      <td>00-1</td>\n",
       "      <td>Weetabix Castle</td>\n",
       "      <td>1970</td>\n",
       "      <td>471.0</td>\n",
       "      <td>Castle</td>\n",
       "      <td>Legoland</td>\n",
       "    </tr>\n",
       "    <tr>\n",
       "      <th>1</th>\n",
       "      <td>0011-2</td>\n",
       "      <td>Town Mini-Figures</td>\n",
       "      <td>1978</td>\n",
       "      <td>NaN</td>\n",
       "      <td>Supplemental</td>\n",
       "      <td>Town</td>\n",
       "    </tr>\n",
       "    <tr>\n",
       "      <th>2</th>\n",
       "      <td>0011-3</td>\n",
       "      <td>Castle 2 for 1 Bonus Offer</td>\n",
       "      <td>1987</td>\n",
       "      <td>NaN</td>\n",
       "      <td>Lion Knights</td>\n",
       "      <td>Castle</td>\n",
       "    </tr>\n",
       "    <tr>\n",
       "      <th>3</th>\n",
       "      <td>0012-1</td>\n",
       "      <td>Space Mini-Figures</td>\n",
       "      <td>1979</td>\n",
       "      <td>12.0</td>\n",
       "      <td>Supplemental</td>\n",
       "      <td>Space</td>\n",
       "    </tr>\n",
       "    <tr>\n",
       "      <th>4</th>\n",
       "      <td>0013-1</td>\n",
       "      <td>Space Mini-Figures</td>\n",
       "      <td>1979</td>\n",
       "      <td>12.0</td>\n",
       "      <td>Supplemental</td>\n",
       "      <td>Space</td>\n",
       "    </tr>\n",
       "    <tr>\n",
       "      <th>5</th>\n",
       "      <td>0014-1</td>\n",
       "      <td>Space Mini-Figures</td>\n",
       "      <td>1979</td>\n",
       "      <td>12.0</td>\n",
       "      <td>Supplemental</td>\n",
       "      <td>Space</td>\n",
       "    </tr>\n",
       "    <tr>\n",
       "      <th>6</th>\n",
       "      <td>0015-1</td>\n",
       "      <td>Space Mini-Figures</td>\n",
       "      <td>1979</td>\n",
       "      <td>NaN</td>\n",
       "      <td>Supplemental</td>\n",
       "      <td>Space</td>\n",
       "    </tr>\n",
       "    <tr>\n",
       "      <th>7</th>\n",
       "      <td>0016-1</td>\n",
       "      <td>Castle Mini Figures</td>\n",
       "      <td>1978</td>\n",
       "      <td>NaN</td>\n",
       "      <td>Castle</td>\n",
       "      <td>Castle</td>\n",
       "    </tr>\n",
       "    <tr>\n",
       "      <th>8</th>\n",
       "      <td>00-2</td>\n",
       "      <td>Weetabix Promotional House 1</td>\n",
       "      <td>1976</td>\n",
       "      <td>NaN</td>\n",
       "      <td>Building</td>\n",
       "      <td>Legoland</td>\n",
       "    </tr>\n",
       "    <tr>\n",
       "      <th>9</th>\n",
       "      <td>00-3</td>\n",
       "      <td>Weetabix Promotional House 2</td>\n",
       "      <td>1976</td>\n",
       "      <td>NaN</td>\n",
       "      <td>Building</td>\n",
       "      <td>Legoland</td>\n",
       "    </tr>\n",
       "  </tbody>\n",
       "</table>\n",
       "</div>"
      ],
      "text/plain": [
       "  set_num                          name  year  num_parts    theme_name  \\\n",
       "0    00-1               Weetabix Castle  1970      471.0        Castle   \n",
       "1  0011-2             Town Mini-Figures  1978        NaN  Supplemental   \n",
       "2  0011-3    Castle 2 for 1 Bonus Offer  1987        NaN  Lion Knights   \n",
       "3  0012-1            Space Mini-Figures  1979       12.0  Supplemental   \n",
       "4  0013-1            Space Mini-Figures  1979       12.0  Supplemental   \n",
       "5  0014-1            Space Mini-Figures  1979       12.0  Supplemental   \n",
       "6  0015-1            Space Mini-Figures  1979        NaN  Supplemental   \n",
       "7  0016-1           Castle Mini Figures  1978        NaN        Castle   \n",
       "8    00-2  Weetabix Promotional House 1  1976        NaN      Building   \n",
       "9    00-3  Weetabix Promotional House 2  1976        NaN      Building   \n",
       "\n",
       "  parent_theme  \n",
       "0     Legoland  \n",
       "1         Town  \n",
       "2       Castle  \n",
       "3        Space  \n",
       "4        Space  \n",
       "5        Space  \n",
       "6        Space  \n",
       "7       Castle  \n",
       "8     Legoland  \n",
       "9     Legoland  "
      ]
     },
     "execution_count": 191,
     "metadata": {},
     "output_type": "execute_result"
    }
   ],
   "source": [
    "df.head(10)"
   ]
  },
  {
   "cell_type": "code",
   "execution_count": 194,
   "id": "3e5b506b-8927-4fe3-84dc-2438ac79bc6a",
   "metadata": {},
   "outputs": [],
   "source": [
    "df = df[df['set_num'].notnull()]"
   ]
  },
  {
   "cell_type": "code",
   "execution_count": 206,
   "id": "c3f2c68e-5f22-4cf9-9f49-a30dc4b3f47d",
   "metadata": {},
   "outputs": [
    {
     "data": {
      "text/html": [
       "<div>\n",
       "<style scoped>\n",
       "    .dataframe tbody tr th:only-of-type {\n",
       "        vertical-align: middle;\n",
       "    }\n",
       "\n",
       "    .dataframe tbody tr th {\n",
       "        vertical-align: top;\n",
       "    }\n",
       "\n",
       "    .dataframe thead th {\n",
       "        text-align: right;\n",
       "    }\n",
       "</style>\n",
       "<table border=\"1\" class=\"dataframe\">\n",
       "  <thead>\n",
       "    <tr style=\"text-align: right;\">\n",
       "      <th></th>\n",
       "      <th>year</th>\n",
       "      <th>set_num</th>\n",
       "    </tr>\n",
       "  </thead>\n",
       "  <tbody>\n",
       "    <tr>\n",
       "      <th>0</th>\n",
       "      <td>1950</td>\n",
       "      <td>7</td>\n",
       "    </tr>\n",
       "    <tr>\n",
       "      <th>1</th>\n",
       "      <td>1953</td>\n",
       "      <td>4</td>\n",
       "    </tr>\n",
       "    <tr>\n",
       "      <th>2</th>\n",
       "      <td>1954</td>\n",
       "      <td>14</td>\n",
       "    </tr>\n",
       "    <tr>\n",
       "      <th>3</th>\n",
       "      <td>1955</td>\n",
       "      <td>28</td>\n",
       "    </tr>\n",
       "    <tr>\n",
       "      <th>4</th>\n",
       "      <td>1956</td>\n",
       "      <td>12</td>\n",
       "    </tr>\n",
       "    <tr>\n",
       "      <th>...</th>\n",
       "      <td>...</td>\n",
       "      <td>...</td>\n",
       "    </tr>\n",
       "    <tr>\n",
       "      <th>61</th>\n",
       "      <td>2013</td>\n",
       "      <td>593</td>\n",
       "    </tr>\n",
       "    <tr>\n",
       "      <th>62</th>\n",
       "      <td>2014</td>\n",
       "      <td>715</td>\n",
       "    </tr>\n",
       "    <tr>\n",
       "      <th>63</th>\n",
       "      <td>2015</td>\n",
       "      <td>670</td>\n",
       "    </tr>\n",
       "    <tr>\n",
       "      <th>64</th>\n",
       "      <td>2016</td>\n",
       "      <td>608</td>\n",
       "    </tr>\n",
       "    <tr>\n",
       "      <th>65</th>\n",
       "      <td>2017</td>\n",
       "      <td>438</td>\n",
       "    </tr>\n",
       "  </tbody>\n",
       "</table>\n",
       "<p>66 rows × 2 columns</p>\n",
       "</div>"
      ],
      "text/plain": [
       "    year  set_num\n",
       "0   1950        7\n",
       "1   1953        4\n",
       "2   1954       14\n",
       "3   1955       28\n",
       "4   1956       12\n",
       "..   ...      ...\n",
       "61  2013      593\n",
       "62  2014      715\n",
       "63  2015      670\n",
       "64  2016      608\n",
       "65  2017      438\n",
       "\n",
       "[66 rows x 2 columns]"
      ]
     },
     "execution_count": 206,
     "metadata": {},
     "output_type": "execute_result"
    }
   ],
   "source": [
    "year_prod = df.groupby('year')['set_num'].count().reset_index()\n",
    "year_prod"
   ]
  },
  {
   "cell_type": "code",
   "execution_count": 208,
   "id": "fae8ac4d-d1d0-4e9f-ba23-85f1c9cbcf3e",
   "metadata": {},
   "outputs": [
    {
     "data": {
      "image/png": "[encoded data removed]",
      "text/plain": [
       "<Figure size 640x480 with 1 Axes>"
      ]
     },
     "metadata": {},
     "output_type": "display_data"
    }
   ],
   "source": [
    "plt.plot(year_prod['year'],year_prod['set_num'])\n",
    "plt.show()"
   ]
  }
 ],
 "metadata": {
  "kernelspec": {
   "display_name": "Python 3 (ipykernel)",
   "language": "python",
   "name": "python3"
  },
  "language_info": {
   "codemirror_mode": {
    "name": "ipython",
    "version": 3
   },
   "file_extension": ".py",
   "mimetype": "text/x-python",
   "name": "python",
   "nbconvert_exporter": "python",
   "pygments_lexer": "ipython3",
   "version": "3.12.0"
  }
 },
 "nbformat": 4,
 "nbformat_minor": 5
}
